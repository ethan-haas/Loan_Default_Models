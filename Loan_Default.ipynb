{
  "nbformat": 4,
  "nbformat_minor": 0,
  "metadata": {
    "colab": {
      "provenance": []
    },
    "kernelspec": {
      "name": "python3",
      "display_name": "Python 3"
    },
    "language_info": {
      "name": "python"
    }
  },
  "cells": [
    {
      "cell_type": "markdown",
      "source": [
        "# **1. Random Forest Classifier**"
      ],
      "metadata": {
        "id": "HVefH8NyJpQ9"
      }
    },
    {
      "cell_type": "code",
      "execution_count": 1,
      "metadata": {
        "colab": {
          "base_uri": "https://localhost:8080/"
        },
        "id": "1wZ2Mnm35JSp",
        "outputId": "51489069-c80c-4775-ffe0-cfa7db6b6f50"
      },
      "outputs": [
        {
          "output_type": "stream",
          "name": "stdout",
          "text": [
            "Loan_ID               0\n",
            "Gender               13\n",
            "Married               3\n",
            "Dependents           15\n",
            "Education             0\n",
            "Self_Employed        32\n",
            "ApplicantIncome       0\n",
            "CoapplicantIncome     0\n",
            "LoanAmount           22\n",
            "Loan_Amount_Term     14\n",
            "Credit_History       50\n",
            "Property_Area         0\n",
            "Loan_Status           0\n",
            "dtype: int64\n",
            "              precision    recall  f1-score   support\n",
            "\n",
            "           0       0.82      0.42      0.55        43\n",
            "           1       0.75      0.95      0.84        80\n",
            "\n",
            "    accuracy                           0.76       123\n",
            "   macro avg       0.79      0.68      0.70       123\n",
            "weighted avg       0.78      0.76      0.74       123\n",
            "\n",
            "Accuracy: 0.7642276422764228\n"
          ]
        }
      ],
      "source": [
        "import pandas as pd\n",
        "import numpy as np\n",
        "from sklearn.preprocessing import LabelEncoder\n",
        "from sklearn.model_selection import train_test_split\n",
        "from sklearn.ensemble import RandomForestClassifier\n",
        "from sklearn.metrics import classification_report, accuracy_score\n",
        "\n",
        "# Load the dataset\n",
        "df = pd.read_csv('loan_data_set.csv')\n",
        "\n",
        "# Check for missing data\n",
        "print(df.isnull().sum())\n",
        "\n",
        "# Replace missing values\n",
        "df['Gender'].fillna(df['Gender'].mode()[0], inplace=True)\n",
        "df['Married'].fillna(df['Married'].mode()[0], inplace=True)\n",
        "df['Dependents'].fillna(df['Dependents'].mode()[0], inplace=True)\n",
        "df['Self_Employed'].fillna(df['Self_Employed'].mode()[0], inplace=True)\n",
        "df['LoanAmount'].fillna(df['LoanAmount'].mean(), inplace=True)\n",
        "df['Loan_Amount_Term'].fillna(df['Loan_Amount_Term'].mode()[0], inplace=True)\n",
        "df['Credit_History'].fillna(df['Credit_History'].mode()[0], inplace=True)\n",
        "\n",
        "# Convert categorical data to numerical data\n",
        "le = LabelEncoder()\n",
        "categorical_columns = ['Gender', 'Married', 'Education', 'Self_Employed', 'Property_Area', 'Loan_Status']\n",
        "\n",
        "for column in categorical_columns:\n",
        "    df[column] = le.fit_transform(df[column])\n",
        "\n",
        "# Convert Dependents to numerical (replace 3+ with 3)\n",
        "df['Dependents'] = df['Dependents'].replace('3+', 3).astype(int)\n",
        "\n",
        "# Split data into features and target\n",
        "X = df.drop(['Loan_ID', 'Loan_Status'], axis=1)\n",
        "y = df['Loan_Status']\n",
        "\n",
        "# Split data into training and test sets\n",
        "X_train, X_test, y_train, y_test = train_test_split(X, y, test_size=0.2, random_state=42)\n",
        "\n",
        "# Create a Random Forest Classifier\n",
        "model = RandomForestClassifier(n_estimators=100, random_state=42)\n",
        "model.fit(X_train, y_train)\n",
        "\n",
        "# Make predictions and evaluate the model\n",
        "y_pred = model.predict(X_test)\n",
        "print(classification_report(y_test, y_pred))\n",
        "print(\"Accuracy:\", accuracy_score(y_test, y_pred))\n"
      ]
    },
    {
      "cell_type": "markdown",
      "source": [
        "# **2. Random Forest with RFECV and GridSearchCV**"
      ],
      "metadata": {
        "id": "L3fDrARtJ1DK"
      }
    },
    {
      "cell_type": "code",
      "source": [
        "import pandas as pd\n",
        "import numpy as np\n",
        "from sklearn.preprocessing import LabelEncoder\n",
        "from sklearn.model_selection import train_test_split\n",
        "from sklearn.ensemble import RandomForestClassifier\n",
        "from sklearn.metrics import classification_report, accuracy_score\n",
        "from sklearn.feature_selection import RFECV\n",
        "from sklearn.model_selection import GridSearchCV\n",
        "\n",
        "# Load the dataset\n",
        "df = pd.read_csv('loan_data_set.csv')\n",
        "\n",
        "# Check for missing data\n",
        "print(df.isnull().sum())\n",
        "\n",
        "# Replace missing values\n",
        "df['Gender'].fillna(df['Gender'].mode()[0], inplace=True)\n",
        "df['Married'].fillna(df['Married'].mode()[0], inplace=True)\n",
        "df['Dependents'].fillna(df['Dependents'].mode()[0], inplace=True)\n",
        "df['Self_Employed'].fillna(df['Self_Employed'].mode()[0], inplace=True)\n",
        "df['LoanAmount'].fillna(df['LoanAmount'].mean(), inplace=True)\n",
        "df['Loan_Amount_Term'].fillna(df['Loan_Amount_Term'].mode()[0], inplace=True)\n",
        "df['Credit_History'].fillna(df['Credit_History'].mode()[0], inplace=True)\n",
        "\n",
        "# Convert categorical data to numerical data\n",
        "le = LabelEncoder()\n",
        "categorical_columns = ['Gender', 'Married', 'Education', 'Self_Employed', 'Property_Area', 'Loan_Status']\n",
        "\n",
        "for column in categorical_columns:\n",
        "    df[column] = le.fit_transform(df[column])\n",
        "\n",
        "# Convert Dependents to numerical (replace 3+ with 3)\n",
        "df['Dependents'] = df['Dependents'].replace('3+', 3).astype(int)\n",
        "\n",
        "# Split data into features and target\n",
        "X = df.drop(['Loan_ID', 'Loan_Status'], axis=1)\n",
        "y = df['Loan_Status']\n",
        "\n",
        "# Split data into training and test sets\n",
        "X_train, X_test, y_train, y_test = train_test_split(X, y, test_size=0.2, random_state=42)\n",
        "\n",
        "# Create a Random Forest Classifier\n",
        "model = RandomForestClassifier(n_estimators=100, random_state=42)\n",
        "\n",
        "# Feature selection\n",
        "selector = RFECV(model, step=1, cv=5)\n",
        "selector = selector.fit(X_train, y_train)\n",
        "X_train_selected = selector.transform(X_train)\n",
        "X_test_selected = selector.transform(X_test)\n",
        "\n",
        "# Hyperparameter tuning\n",
        "param_grid = {\n",
        "    'n_estimators': [50, 100, 200],\n",
        "    'max_depth': [None, 10, 20, 30],\n",
        "    'min_samples_split': [2, 5, 10],\n",
        "    'min_samples_leaf': [1, 2, 4]\n",
        "}\n",
        "grid_search = GridSearchCV(model, param_grid, cv=5, verbose=2, n_jobs=-1)\n",
        "grid_search.fit(X_train_selected, y_train)\n",
        "\n",
        "# Re-train the model with the best parameters\n",
        "model = RandomForestClassifier(**grid_search.best_params_, random_state=42)\n",
        "model.fit(X_train_selected, y_train)\n",
        "\n",
        "# Make predictions and evaluate the model\n",
        "y_pred = model.predict(X_test_selected)\n",
        "print(classification_report(y_test, y_pred))\n",
        "print(\"Accuracy:\", accuracy_score(y_test, y_pred))\n"
      ],
      "metadata": {
        "colab": {
          "base_uri": "https://localhost:8080/"
        },
        "id": "jI_eMg_o5tv0",
        "outputId": "2250534f-bf2c-4751-bac1-9ad4dfb72675"
      },
      "execution_count": 2,
      "outputs": [
        {
          "output_type": "stream",
          "name": "stdout",
          "text": [
            "Loan_ID               0\n",
            "Gender               13\n",
            "Married               3\n",
            "Dependents           15\n",
            "Education             0\n",
            "Self_Employed        32\n",
            "ApplicantIncome       0\n",
            "CoapplicantIncome     0\n",
            "LoanAmount           22\n",
            "Loan_Amount_Term     14\n",
            "Credit_History       50\n",
            "Property_Area         0\n",
            "Loan_Status           0\n",
            "dtype: int64\n",
            "Fitting 5 folds for each of 108 candidates, totalling 540 fits\n",
            "              precision    recall  f1-score   support\n",
            "\n",
            "           0       0.78      0.42      0.55        43\n",
            "           1       0.75      0.94      0.83        80\n",
            "\n",
            "    accuracy                           0.76       123\n",
            "   macro avg       0.77      0.68      0.69       123\n",
            "weighted avg       0.76      0.76      0.73       123\n",
            "\n",
            "Accuracy: 0.7560975609756098\n"
          ]
        }
      ]
    },
    {
      "cell_type": "markdown",
      "source": [
        "# **3. XGBoost Classifier**"
      ],
      "metadata": {
        "id": "T010rS39KVmV"
      }
    },
    {
      "cell_type": "code",
      "source": [
        "import pandas as pd\n",
        "import numpy as np\n",
        "from sklearn.preprocessing import LabelEncoder, StandardScaler\n",
        "from sklearn.model_selection import train_test_split, cross_val_score\n",
        "from xgboost import XGBClassifier\n",
        "from sklearn.metrics import classification_report, accuracy_score\n",
        "\n",
        "# Load the dataset\n",
        "df = pd.read_csv('loan_data_set.csv')\n",
        "\n",
        "# Replace missing values\n",
        "df['Gender'].fillna(df['Gender'].mode()[0], inplace=True)\n",
        "df['Married'].fillna(df['Married'].mode()[0], inplace=True)\n",
        "df['Dependents'].fillna(df['Dependents'].mode()[0], inplace=True)\n",
        "df['Self_Employed'].fillna(df['Self_Employed'].mode()[0], inplace=True)\n",
        "df['LoanAmount'].fillna(df['LoanAmount'].mean(), inplace=True)\n",
        "df['Loan_Amount_Term'].fillna(df['Loan_Amount_Term'].mode()[0], inplace=True)\n",
        "df['Credit_History'].fillna(df['Credit_History'].mode()[0], inplace=True)\n",
        "\n",
        "# Convert categorical data to numerical data\n",
        "le = LabelEncoder()\n",
        "categorical_columns = ['Gender', 'Married', 'Education', 'Self_Employed', 'Property_Area', 'Loan_Status']\n",
        "\n",
        "for column in categorical_columns:\n",
        "    df[column] = le.fit_transform(df[column])\n",
        "\n",
        "# Convert Dependents to numerical (replace 3+ with 3)\n",
        "df['Dependents'] = df['Dependents'].replace('3+', 3).astype(int)\n",
        "\n",
        "# Split data into features and target\n",
        "X = df.drop(['Loan_ID', 'Loan_Status'], axis=1)\n",
        "y = df['Loan_Status']\n",
        "\n",
        "# Scaling the features\n",
        "scaler = StandardScaler()\n",
        "X_scaled = scaler.fit_transform(X)\n",
        "\n",
        "# Split data into training and test sets\n",
        "X_train, X_test, y_train, y_test = train_test_split(X_scaled, y, test_size=0.2, random_state=42)\n",
        "\n",
        "# Create a XGBoost Classifier\n",
        "model = XGBClassifier(use_label_encoder=False, eval_metric='logloss')\n",
        "\n",
        "# Use cross-validation on the training set\n",
        "cross_val_scores = cross_val_score(model, X_train, y_train, cv=5)\n",
        "\n",
        "print(\"Cross-validation scores: \", cross_val_scores)\n",
        "print(\"Mean cross-validation score: \", np.mean(cross_val_scores))\n",
        "\n",
        "# Fit the model and make predictions\n",
        "model.fit(X_train, y_train)\n",
        "y_pred = model.predict(X_test)\n",
        "\n",
        "# Evaluation\n",
        "print(classification_report(y_test, y_pred))\n",
        "print(\"Accuracy:\", accuracy_score(y_test, y_pred))\n"
      ],
      "metadata": {
        "colab": {
          "base_uri": "https://localhost:8080/"
        },
        "id": "Dr0cctK46sFP",
        "outputId": "2cf6a544-5163-4436-93b0-3891aad5c7a4"
      },
      "execution_count": 3,
      "outputs": [
        {
          "output_type": "stream",
          "name": "stderr",
          "text": [
            "/usr/local/lib/python3.10/dist-packages/xgboost/sklearn.py:1395: UserWarning: `use_label_encoder` is deprecated in 1.7.0.\n",
            "  warnings.warn(\"`use_label_encoder` is deprecated in 1.7.0.\")\n",
            "/usr/local/lib/python3.10/dist-packages/xgboost/sklearn.py:1395: UserWarning: `use_label_encoder` is deprecated in 1.7.0.\n",
            "  warnings.warn(\"`use_label_encoder` is deprecated in 1.7.0.\")\n",
            "/usr/local/lib/python3.10/dist-packages/xgboost/sklearn.py:1395: UserWarning: `use_label_encoder` is deprecated in 1.7.0.\n",
            "  warnings.warn(\"`use_label_encoder` is deprecated in 1.7.0.\")\n",
            "/usr/local/lib/python3.10/dist-packages/xgboost/sklearn.py:1395: UserWarning: `use_label_encoder` is deprecated in 1.7.0.\n",
            "  warnings.warn(\"`use_label_encoder` is deprecated in 1.7.0.\")\n",
            "/usr/local/lib/python3.10/dist-packages/xgboost/sklearn.py:1395: UserWarning: `use_label_encoder` is deprecated in 1.7.0.\n",
            "  warnings.warn(\"`use_label_encoder` is deprecated in 1.7.0.\")\n",
            "/usr/local/lib/python3.10/dist-packages/xgboost/sklearn.py:1395: UserWarning: `use_label_encoder` is deprecated in 1.7.0.\n",
            "  warnings.warn(\"`use_label_encoder` is deprecated in 1.7.0.\")\n"
          ]
        },
        {
          "output_type": "stream",
          "name": "stdout",
          "text": [
            "Cross-validation scores:  [0.80808081 0.7244898  0.78571429 0.76530612 0.80612245]\n",
            "Mean cross-validation score:  0.7779426922284065\n",
            "              precision    recall  f1-score   support\n",
            "\n",
            "           0       0.71      0.47      0.56        43\n",
            "           1       0.76      0.90      0.82        80\n",
            "\n",
            "    accuracy                           0.75       123\n",
            "   macro avg       0.74      0.68      0.69       123\n",
            "weighted avg       0.74      0.75      0.73       123\n",
            "\n",
            "Accuracy: 0.7479674796747967\n"
          ]
        }
      ]
    },
    {
      "cell_type": "markdown",
      "source": [
        "# **4. Gradient Boosting Classifier with Polynomial Features**"
      ],
      "metadata": {
        "id": "p4oBzT6YKbGD"
      }
    },
    {
      "cell_type": "code",
      "source": [
        "import pandas as pd\n",
        "import numpy as np\n",
        "from sklearn.preprocessing import LabelEncoder\n",
        "from sklearn.model_selection import train_test_split\n",
        "from sklearn.ensemble import GradientBoostingClassifier\n",
        "from sklearn.metrics import classification_report, accuracy_score\n",
        "from sklearn.preprocessing import PolynomialFeatures\n",
        "\n",
        "# Load the dataset\n",
        "df = pd.read_csv('loan_data_set.csv')\n",
        "\n",
        "# Replace missing values\n",
        "df['Gender'].fillna(df['Gender'].mode()[0], inplace=True)\n",
        "df['Married'].fillna(df['Married'].mode()[0], inplace=True)\n",
        "df['Dependents'].fillna(df['Dependents'].mode()[0], inplace=True)\n",
        "df['Self_Employed'].fillna(df['Self_Employed'].mode()[0], inplace=True)\n",
        "df['LoanAmount'].fillna(df['LoanAmount'].mean(), inplace=True)\n",
        "df['Loan_Amount_Term'].fillna(df['Loan_Amount_Term'].mode()[0], inplace=True)\n",
        "df['Credit_History'].fillna(df['Credit_History'].mode()[0], inplace=True)\n",
        "\n",
        "# Convert categorical data to numerical data\n",
        "le = LabelEncoder()\n",
        "categorical_columns = ['Gender', 'Married', 'Education', 'Self_Employed', 'Property_Area', 'Loan_Status']\n",
        "\n",
        "for column in categorical_columns:\n",
        "    df[column] = le.fit_transform(df[column])\n",
        "\n",
        "# Convert Dependents to numerical (replace 3+ with 3)\n",
        "df['Dependents'] = df['Dependents'].replace('3+', 3).astype(int)\n",
        "\n",
        "# Split data into features and target\n",
        "X = df.drop(['Loan_ID', 'Loan_Status'], axis=1)\n",
        "y = df['Loan_Status']\n",
        "\n",
        "# Create polynomial features\n",
        "poly = PolynomialFeatures(degree=2, interaction_only=True)\n",
        "X_poly = poly.fit_transform(X)\n",
        "\n",
        "# Split data into training and test sets\n",
        "X_train, X_test, y_train, y_test = train_test_split(X_poly, y, test_size=0.2, random_state=42)\n",
        "\n",
        "# Create a Gradient Boosting Classifier\n",
        "model = GradientBoostingClassifier(n_estimators=100, learning_rate=0.1, max_depth=3, random_state=42)\n",
        "\n",
        "# Fit the model and make predictions\n",
        "model.fit(X_train, y_train)\n",
        "y_pred = model.predict(X_test)\n",
        "\n",
        "# Evaluation\n",
        "print(classification_report(y_test, y_pred))\n",
        "print(\"Accuracy:\", accuracy_score(y_test, y_pred))\n"
      ],
      "metadata": {
        "colab": {
          "base_uri": "https://localhost:8080/"
        },
        "id": "Up16yWRt7M7I",
        "outputId": "a8170972-4701-471c-9133-92f4e8239c47"
      },
      "execution_count": 4,
      "outputs": [
        {
          "output_type": "stream",
          "name": "stdout",
          "text": [
            "              precision    recall  f1-score   support\n",
            "\n",
            "           0       0.70      0.44      0.54        43\n",
            "           1       0.75      0.90      0.82        80\n",
            "\n",
            "    accuracy                           0.74       123\n",
            "   macro avg       0.73      0.67      0.68       123\n",
            "weighted avg       0.73      0.74      0.72       123\n",
            "\n",
            "Accuracy: 0.7398373983739838\n"
          ]
        }
      ]
    },
    {
      "cell_type": "markdown",
      "source": [
        "# **5. Random Forest with Feature Engineering**"
      ],
      "metadata": {
        "id": "6OvHbrwvKfi8"
      }
    },
    {
      "cell_type": "code",
      "source": [
        "import pandas as pd\n",
        "import numpy as np\n",
        "from sklearn.preprocessing import LabelEncoder\n",
        "from sklearn.model_selection import train_test_split, GridSearchCV\n",
        "from sklearn.ensemble import RandomForestClassifier\n",
        "from sklearn.metrics import classification_report, accuracy_score\n",
        "\n",
        "# Load the dataset\n",
        "df = pd.read_csv('loan_data_set.csv')\n",
        "\n",
        "# Replace missing values\n",
        "df['Gender'].fillna(df['Gender'].mode()[0], inplace=True)\n",
        "df['Married'].fillna(df['Married'].mode()[0], inplace=True)\n",
        "df['Dependents'].fillna(df['Dependents'].mode()[0], inplace=True)\n",
        "df['Self_Employed'].fillna(df['Self_Employed'].mode()[0], inplace=True)\n",
        "df['LoanAmount'].fillna(df['LoanAmount'].mean(), inplace=True)\n",
        "df['Loan_Amount_Term'].fillna(df['Loan_Amount_Term'].mode()[0], inplace=True)\n",
        "df['Credit_History'].fillna(df['Credit_History'].mode()[0], inplace=True)\n",
        "\n",
        "# Convert categorical data to numerical data\n",
        "le = LabelEncoder()\n",
        "categorical_columns = ['Gender', 'Married', 'Education', 'Self_Employed', 'Property_Area', 'Loan_Status']\n",
        "\n",
        "for column in categorical_columns:\n",
        "    df[column] = le.fit_transform(df[column])\n",
        "\n",
        "# Convert Dependents to numerical (replace 3+ with 3)\n",
        "df['Dependents'] = df['Dependents'].replace('3+', 3).astype(int)\n",
        "\n",
        "# Feature engineering\n",
        "df['TotalIncome'] = df['ApplicantIncome'] + df['CoapplicantIncome']\n",
        "\n",
        "# Split data into features and target\n",
        "X = df.drop(['Loan_ID', 'Loan_Status', 'ApplicantIncome', 'CoapplicantIncome'], axis=1)\n",
        "y = df['Loan_Status']\n",
        "\n",
        "# Split data into training and test sets\n",
        "X_train, X_test, y_train, y_test = train_test_split(X, y, test_size=0.2, random_state=42)\n",
        "\n",
        "# Create a Random Forest Classifier\n",
        "model = RandomForestClassifier(random_state=42)\n",
        "\n",
        "# Use GridSearchCV for hyperparameter tuning\n",
        "param_grid = {\n",
        "    'n_estimators': [50, 100, 200],\n",
        "    'max_depth': [None, 10, 20, 30],\n",
        "    'min_samples_split': [2, 5, 10],\n",
        "    'min_samples_leaf': [1, 2, 4]\n",
        "}\n",
        "grid_search = GridSearchCV(estimator=model, param_grid=param_grid, cv=5)\n",
        "grid_search.fit(X_train, y_train)\n",
        "\n",
        "# Fit the model and make predictions using the best estimator from GridSearchCV\n",
        "best_model = grid_search.best_estimator_\n",
        "y_pred = best_model.predict(X_test)\n",
        "\n",
        "# Evaluation\n",
        "print(classification_report(y_test, y_pred))\n",
        "print(\"Accuracy:\", accuracy_score(y_test, y_pred))\n"
      ],
      "metadata": {
        "colab": {
          "base_uri": "https://localhost:8080/"
        },
        "id": "-2UkNzUs7kWf",
        "outputId": "8b7848cc-b8a1-4757-cff8-66fa5037e773"
      },
      "execution_count": 5,
      "outputs": [
        {
          "output_type": "stream",
          "name": "stdout",
          "text": [
            "              precision    recall  f1-score   support\n",
            "\n",
            "           0       0.86      0.42      0.56        43\n",
            "           1       0.75      0.96      0.85        80\n",
            "\n",
            "    accuracy                           0.77       123\n",
            "   macro avg       0.81      0.69      0.70       123\n",
            "weighted avg       0.79      0.77      0.75       123\n",
            "\n",
            "Accuracy: 0.7723577235772358\n"
          ]
        }
      ]
    },
    {
      "cell_type": "markdown",
      "source": [
        "# **6. XGBoost Classifier with SMOTE**"
      ],
      "metadata": {
        "id": "9eUrlrlCKkjE"
      }
    },
    {
      "cell_type": "code",
      "source": [
        "import pandas as pd\n",
        "import numpy as np\n",
        "from imblearn.over_sampling import SMOTE\n",
        "from sklearn.preprocessing import LabelEncoder\n",
        "from sklearn.model_selection import train_test_split, GridSearchCV\n",
        "from xgboost import XGBClassifier\n",
        "from sklearn.metrics import classification_report, accuracy_score\n",
        "\n",
        "# Load the dataset\n",
        "df = pd.read_csv('loan_data_set.csv')\n",
        "\n",
        "# Replace missing values\n",
        "df['Gender'].fillna(df['Gender'].mode()[0], inplace=True)\n",
        "df['Married'].fillna(df['Married'].mode()[0], inplace=True)\n",
        "df['Dependents'].fillna(df['Dependents'].mode()[0], inplace=True)\n",
        "df['Self_Employed'].fillna(df['Self_Employed'].mode()[0], inplace=True)\n",
        "df['LoanAmount'].fillna(df['LoanAmount'].mean(), inplace=True)\n",
        "df['Loan_Amount_Term'].fillna(df['Loan_Amount_Term'].mode()[0], inplace=True)\n",
        "df['Credit_History'].fillna(df['Credit_History'].mode()[0], inplace=True)\n",
        "\n",
        "# Convert categorical data to numerical data\n",
        "le = LabelEncoder()\n",
        "categorical_columns = ['Gender', 'Married', 'Education', 'Self_Employed', 'Property_Area']\n",
        "\n",
        "for column in categorical_columns:\n",
        "    df[column] = le.fit_transform(df[column])\n",
        "\n",
        "# Convert Dependents to numerical (replace 3+ with 3)\n",
        "df['Dependents'] = df['Dependents'].replace('3+', 3).astype(int)\n",
        "\n",
        "# Label encoding for target variable\n",
        "le = LabelEncoder()\n",
        "df['Loan_Status'] = le.fit_transform(df['Loan_Status'])\n",
        "\n",
        "# Split data into features and target\n",
        "X = df.drop(['Loan_ID', 'Loan_Status'], axis=1)\n",
        "y = df['Loan_Status']\n",
        "\n",
        "# Oversampling minority class using SMOTE\n",
        "sm = SMOTE(random_state=42)\n",
        "X, y = sm.fit_resample(X, y)\n",
        "\n",
        "# Split data into training and test sets\n",
        "X_train, X_test, y_train, y_test = train_test_split(X, y, test_size=0.2, random_state=42)\n",
        "\n",
        "# Create a XGBClassifier\n",
        "model = XGBClassifier(eval_metric='logloss')\n",
        "\n",
        "# Use GridSearchCV for hyperparameter tuning\n",
        "param_grid = {\n",
        "    'n_estimators': [50, 100, 200],\n",
        "    'learning_rate': [0.01, 0.1, 0.2],\n",
        "    'max_depth': [3, 5, 7, 10],\n",
        "    'colsample_bytree': [0.5, 0.7, 1],\n",
        "    'gamma': [0, 0.25, 1.0]\n",
        "}\n",
        "grid_search = GridSearchCV(estimator=model, param_grid=param_grid, cv=5)\n",
        "grid_search.fit(X_train, y_train)\n",
        "\n",
        "# Fit the model and make predictions using the best estimator from GridSearchCV\n",
        "best_model = grid_search.best_estimator_\n",
        "y_pred = best_model.predict(X_test)\n",
        "\n",
        "# Evaluation\n",
        "print(classification_report(y_test, y_pred))\n",
        "print(\"Accuracy:\", accuracy_score(y_test, y_pred))\n"
      ],
      "metadata": {
        "colab": {
          "base_uri": "https://localhost:8080/"
        },
        "id": "0G7RO8OI8jn-",
        "outputId": "f5a0dce5-18fc-44a0-bda4-e4b5b8fb42cf"
      },
      "execution_count": 6,
      "outputs": [
        {
          "output_type": "stream",
          "name": "stdout",
          "text": [
            "              precision    recall  f1-score   support\n",
            "\n",
            "           0       0.90      0.74      0.81        94\n",
            "           1       0.74      0.89      0.81        75\n",
            "\n",
            "    accuracy                           0.81       169\n",
            "   macro avg       0.82      0.82      0.81       169\n",
            "weighted avg       0.83      0.81      0.81       169\n",
            "\n",
            "Accuracy: 0.8106508875739645\n"
          ]
        }
      ]
    }
  ]
}